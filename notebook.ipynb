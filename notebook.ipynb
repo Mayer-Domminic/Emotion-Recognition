{
 "cells": [
  {
   "cell_type": "code",
   "execution_count": 2,
   "metadata": {},
   "outputs": [],
   "source": [
    "from loader import EmotionDataLoader\n",
    "from logistic_regression import EmotionLogisticRegression\n",
    "from xg_boost import EmotionXGBoost\n",
    "from rf_classifier import EmotionRandomForest\n",
    "from svm_classifier import EmotionSVM"
   ]
  },
  {
   "cell_type": "code",
   "execution_count": 6,
   "metadata": {},
   "outputs": [],
   "source": [
    "def train_and_evaluate(model, model_name, X_train, X_test, y_train, y_test):\n",
    "    print(f\"\\nTraining {model_name}...\")\n",
    "    model.train(X_train, y_train)\n",
    "    \n",
    "    accuracy = model.evaluate(X_test, y_test)\n",
    "    print(f\"{model_name} Accuracy: {accuracy:.4f}\")\n",
    "    \n",
    "    print(f\"\\n{model_name} Detailed Report:\")\n",
    "    print(model.get_detailed_report(X_test, y_test))\n",
    "    \n",
    "    return accuracy"
   ]
  },
  {
   "cell_type": "code",
   "execution_count": 7,
   "metadata": {},
   "outputs": [],
   "source": [
    "data_loader = EmotionDataLoader()\n",
    "X_train, X_test, y_train, y_test = data_loader.load_data(split_type=\"split\")"
   ]
  },
  {
   "cell_type": "code",
   "execution_count": 8,
   "metadata": {},
   "outputs": [],
   "source": [
    "models = {\n",
    "    \"Logistic Regression\": EmotionLogisticRegression(max_features=5000),\n",
    "    \"XGBoost\": EmotionXGBoost(max_features=5000),\n",
    "    \"Random Forest\": EmotionRandomForest(max_features=5000),\n",
    "    \"SVM\": EmotionSVM(max_features=5000)\n",
    "}"
   ]
  },
  {
   "cell_type": "code",
   "execution_count": 9,
   "metadata": {},
   "outputs": [
    {
     "name": "stdout",
     "output_type": "stream",
     "text": [
      "\n",
      "Training Logistic Regression...\n",
      "Logistic Regression Accuracy: 0.8735\n",
      "\n",
      "Logistic Regression Detailed Report:\n",
      "              precision    recall  f1-score   support\n",
      "\n",
      "           0       0.90      0.93      0.92       581\n",
      "           1       0.85      0.96      0.90       695\n",
      "           2       0.82      0.61      0.70       159\n",
      "           3       0.91      0.82      0.86       275\n",
      "           4       0.88      0.80      0.84       224\n",
      "           5       0.85      0.53      0.65        66\n",
      "\n",
      "    accuracy                           0.87      2000\n",
      "   macro avg       0.87      0.78      0.81      2000\n",
      "weighted avg       0.87      0.87      0.87      2000\n",
      "\n",
      "\n",
      "Training XGBoost...\n",
      "XGBoost Accuracy: 0.8840\n",
      "\n",
      "XGBoost Detailed Report:\n",
      "              precision    recall  f1-score   support\n",
      "\n",
      "           0       0.95      0.91      0.93       581\n",
      "           1       0.88      0.91      0.90       695\n",
      "           2       0.74      0.79      0.76       159\n",
      "           3       0.92      0.87      0.90       275\n",
      "           4       0.88      0.86      0.87       224\n",
      "           5       0.60      0.74      0.66        66\n",
      "\n",
      "    accuracy                           0.88      2000\n",
      "   macro avg       0.83      0.85      0.84      2000\n",
      "weighted avg       0.89      0.88      0.89      2000\n",
      "\n",
      "\n",
      "Training Random Forest...\n",
      "Random Forest Accuracy: 0.8805\n",
      "\n",
      "Random Forest Detailed Report:\n",
      "              precision    recall  f1-score   support\n",
      "\n",
      "           0       0.95      0.91      0.93       581\n",
      "           1       0.86      0.93      0.89       695\n",
      "           2       0.80      0.67      0.73       159\n",
      "           3       0.91      0.87      0.89       275\n",
      "           4       0.86      0.88      0.87       224\n",
      "           5       0.67      0.65      0.66        66\n",
      "\n",
      "    accuracy                           0.88      2000\n",
      "   macro avg       0.84      0.82      0.83      2000\n",
      "weighted avg       0.88      0.88      0.88      2000\n",
      "\n",
      "\n",
      "Training SVM...\n",
      "SVM Accuracy: 0.8900\n",
      "\n",
      "SVM Detailed Report:\n",
      "              precision    recall  f1-score   support\n",
      "\n",
      "           0       0.93      0.92      0.93       581\n",
      "           1       0.90      0.93      0.92       695\n",
      "           2       0.78      0.76      0.77       159\n",
      "           3       0.88      0.89      0.88       275\n",
      "           4       0.88      0.83      0.86       224\n",
      "           5       0.72      0.67      0.69        66\n",
      "\n",
      "    accuracy                           0.89      2000\n",
      "   macro avg       0.85      0.83      0.84      2000\n",
      "weighted avg       0.89      0.89      0.89      2000\n",
      "\n"
     ]
    }
   ],
   "source": [
    "results = {}\n",
    "for name, model in models.items():\n",
    "    results[name] = train_and_evaluate(\n",
    "        model, name, X_train, X_test, y_train, y_test\n",
    "    )"
   ]
  },
  {
   "cell_type": "code",
   "execution_count": 10,
   "metadata": {},
   "outputs": [
    {
     "name": "stdout",
     "output_type": "stream",
     "text": [
      "\n",
      "Model Comparison:\n",
      "Logistic Regression: 0.8735 (87.35%)\n",
      "XGBoost: 0.8840 (88.40%)\n",
      "Random Forest: 0.8805 (88.05%)\n",
      "SVM: 0.8900 (89.00%)\n"
     ]
    }
   ],
   "source": [
    "print(\"\\nModel Comparison:\")\n",
    "for name, accuracy in results.items():\n",
    "    print(f\"{name}: {accuracy:.4f} ({accuracy*100:.2f}%)\")"
   ]
  }
 ],
 "metadata": {
  "kernelspec": {
   "display_name": "venv",
   "language": "python",
   "name": "python3"
  },
  "language_info": {
   "codemirror_mode": {
    "name": "ipython",
    "version": 3
   },
   "file_extension": ".py",
   "mimetype": "text/x-python",
   "name": "python",
   "nbconvert_exporter": "python",
   "pygments_lexer": "ipython3",
   "version": "3.10.12"
  }
 },
 "nbformat": 4,
 "nbformat_minor": 2
}
